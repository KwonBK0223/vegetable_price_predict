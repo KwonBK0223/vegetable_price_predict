{
 "cells": [
  {
   "cell_type": "code",
   "execution_count": 2,
   "metadata": {},
   "outputs": [],
   "source": [
    "import pandas as pd\n",
    "import numpy as np\n",
    "import matplotlib.pyplot as plt\n",
    "import glob\n",
    "\n",
    "import torch\n",
    "import torch.nn as nn\n",
    "import torch.optim as optim\n",
    "from torch.optim import Adam\n",
    "from torch.optim.lr_scheduler import ExponentialLR\n",
    "import random\n",
    "\n",
    "# darts 관련 라이브러리\n",
    "from darts import TimeSeries\n",
    "from darts.models import TSMixerModel\n",
    "from darts.dataprocessing.transformers import Scaler\n",
    "from darts.utils.callbacks import TFMProgressBar\n",
    "from pytorch_lightning.callbacks.early_stopping import EarlyStopping\n",
    "from pytorch_lightning.loggers import TensorBoardLogger\n",
    "from pytorch_lightning.callbacks import Callback\n",
    "\n",
    "# Random seed 고정\n",
    "seed = 42\n",
    "np.random.seed(seed)\n",
    "torch.manual_seed(seed)\n",
    "random.seed(seed)\n",
    "\n",
    "# CUDA를 사용하는 경우에도 고정 (CUDA 사용 시)\n",
    "if torch.cuda.is_available():\n",
    "    torch.cuda.manual_seed(seed)\n",
    "    torch.cuda.manual_seed_all(seed)  # 모든 GPU에 seed 적용\n",
    "    torch.backends.cudnn.deterministic = True  # 연산을 항상 동일하게 수행\n",
    "    torch.backends.cudnn.benchmark = False  # 성능 저하가 있을 수 있지만 연산 일관성을 위해 비활성화\n",
    "\n",
    "# Matplotlib 한글 폰트 설정\n",
    "plt.rcParams['font.family'] = 'Malgun Gothic'\n",
    "plt.rcParams['axes.unicode_minus'] = False"
   ]
  },
  {
   "cell_type": "code",
   "execution_count": 2,
   "metadata": {},
   "outputs": [],
   "source": [
    "# 손실 값을 저장할 리스트\n",
    "train_losses = []\n",
    "val_losses = []\n",
    "\n",
    "# Custom callback to track loss\n",
    "class LossLogger(Callback):\n",
    "    def on_train_epoch_end(self, trainer, pl_module):\n",
    "        train_losses.append(trainer.callback_metrics[\"train_loss\"].item())\n",
    "        val_losses.append(trainer.callback_metrics[\"val_loss\"].item())"
   ]
  },
  {
   "cell_type": "code",
   "execution_count": 3,
   "metadata": {},
   "outputs": [],
   "source": [
    "# train 산지 데이터 path\n",
    "sanji_path = 'data/train/meta/TRAIN_산지공판장_2018-2021.csv'\n",
    "# train 도매 데이터 path\n",
    "dome_path = 'data/train/meta/TRAIN_전국도매_2018-2021.csv'\n",
    "# test.csv 데이터 path\n",
    "test_paths = glob.glob('data/test/*.csv')\n",
    "\n",
    "# test 산지, 도매 파일 path\n",
    "test_files = glob.glob(\"data/test/meta/*.csv\")\n",
    "test_sanji_paths = []\n",
    "test_dome_paths = []\n",
    "for file in test_files:\n",
    "    if '산지' in file:\n",
    "        test_sanji_paths.append(file)\n",
    "    else:\n",
    "        test_dome_paths.append(file)\n",
    "\n",
    "# test_time dictionary\n",
    "test_time_dict = {'T-8순': 0,\n",
    "                  'T-7순': 1,\n",
    "                  'T-6순': 2,\n",
    "                  'T-5순': 3,\n",
    "                  'T-4순': 4,\n",
    "                  'T-3순': 5,\n",
    "                  'T-2순': 6,\n",
    "                  'T-1순': 7,\n",
    "                  'T': 8}\n",
    "\n",
    "# 맞춰야하는 item 리스트\n",
    "target_id = ['건고추_화건_30 kg_상', '사과_홍로, 후지_10 개_상', '감자_감자 수미_20키로상자_상', '배_신고_10 개_상', '깐마늘(국산)_깐마늘(국산)_20 kg_상', \n",
    "               '무_무_20키로상자_상', '상추_청_100 g_상', '배추_배추_10키로망대_상', '양파_양파_1키로_상', '대파_대파(일반)_1키로단_상']"
   ]
  },
  {
   "cell_type": "code",
   "execution_count": 4,
   "metadata": {},
   "outputs": [
    {
     "name": "stdout",
     "output_type": "stream",
     "text": [
      "산지 1298\n",
      "도매 1533\n"
     ]
    }
   ],
   "source": [
    "def time_preprocess(data): # 시점 전처리\n",
    "    data_time = dict()\n",
    "    time_list = list(data['시점'].unique())\n",
    "    for time in time_list:\n",
    "        data_time[time] = time_list.index(time)\n",
    "    data['시점'] = data['시점'].map(data_time)\n",
    "    return data\n",
    "\n",
    "def basic_preprocess_train(data, apple = False): # 기본 전처리(등급, (apple = True이면) 사과 홍로, 후지 데이터 하나로, id 생성)\n",
    "    # 등급 데이터 통일\n",
    "    data['등급'] = data['등급'].replace(regex = r'[품]', value = '')\n",
    "    # 시점 0-143사이 숫자로 인코딩\n",
    "    data = time_preprocess(data)\n",
    "    # 사과 홍로, 후지 데이터 하나로\n",
    "    if apple:\n",
    "        data.loc[(data['품종명']=='후지') & (data['등급']=='상'), '품종명'] = '홍로, 후지'\n",
    "        data.loc[(data['품종명']=='홍로') & (data['등급']=='상'), '품종명'] = '홍로, 후지'\n",
    "    # id column 생성 + 제일 앞에 배치\n",
    "    data['id'] = data[['품목명', '품종명', '거래단위', '등급']].agg('_'.join, axis=1)\n",
    "    cols = ['id'] + [col for col in data.columns if col != 'id']\n",
    "    data = data[cols]\n",
    "    return data\n",
    "\n",
    "def gen_transpose_train(data, target_id = None): # train.csv 데이터 재구성\n",
    "    new_columns = {}\n",
    "    for id in data['id'].unique():\n",
    "        temp = data.loc[data['id'] == id, :].reset_index(drop=True)  \n",
    "        # 첫 번째 조건: 평년 평균가격(원)이 0이 아닌 경우가 90% 이상이면\n",
    "        if sum(temp['평년 평균가격(원)'] != 0) > 144 * 0.95:\n",
    "            new_columns[f'{id}__평년 평균가격(원)'] = temp['평년 평균가격(원)']\n",
    "        # 두 번째 조건: 평균가격(원)이 0이 아닌 경우가 90% 이상이면\n",
    "        if sum(temp['평균가격(원)'] != 0) > 144 * 0.9:\n",
    "            new_columns[f'{id}__평균가격(원)'] = temp['평균가격(원)']\n",
    "    # 모든 컬럼을 한 번에 concat으로 추가\n",
    "    new_data = pd.concat([pd.DataFrame(new_columns)], axis=1)\n",
    "    # 맞춰야하는 item이 모두 포함되어 있는지 확인\n",
    "    if target_id != None:\n",
    "        new_cols = list(new_data.columns)\n",
    "        for item in target_id:\n",
    "            if item + '__평균가격(원)' not in new_cols:\n",
    "                print(item, '이 안들어가 있습니다')\n",
    "    return new_data\n",
    "\n",
    "def gen_transpose_train_dome(dome, dome_list): # train 도매 데이터 재구성\n",
    "    # 필요한 컬럼만 남기고 기본 전처리\n",
    "    time_list = dome['시점'].unique()\n",
    "    dome['set'] = ['도매']*len(dome)\n",
    "    dome['id'] = dome[['set', '시장명', '품목명', '품종명']].agg('_'.join, axis=1)\n",
    "    dome = dome.loc[dome['id'].isin(dome_list), :]\n",
    "    price_cols =  ['평균가(원/kg)']\n",
    "    new_columns = {}\n",
    "    for id in dome['id'].unique():\n",
    "        temp = dome.loc[dome['id']==id, :]\n",
    "        # 전체 데이터가 90퍼센트가 이상인 id의 데이터만 사용\n",
    "        if len(temp) > 144 * 0.9:\n",
    "            new_rows = []\n",
    "            # 시점에 데이터가 없는 경우 0인 데이터로 생성해서 채움\n",
    "            for time in time_list:\n",
    "                if time not in list(temp['시점']):\n",
    "                    new_row = {\n",
    "                        'id': id,\n",
    "                        '시점': time,\n",
    "                        '총반입량(kg)': 0,\n",
    "                        '총거래금액(원)': 0,\n",
    "                        '평균가(원/kg)': 0,\n",
    "                        '고가(20%) 평균가': 0,\n",
    "                        '중가(60%) 평균가 ': 0,\n",
    "                        '저가(20%) 평균가': 0,\n",
    "                        '중간가(원/kg)': 0,\n",
    "                        '최저가(원/kg)': 0,\n",
    "                        '최고가(원/kg)': 0,\n",
    "                        '경매 건수': 0,\n",
    "                        '전순 평균가격(원) PreVious SOON': 0,\n",
    "                        '전달 평균가격(원) PreVious MMonth': 0,\n",
    "                        '전년 평균가격(원) PreVious YeaR': 0,\n",
    "                        '평년 평균가격(원) Common Year SOON': 0\n",
    "                    }\n",
    "                    new_rows.append(new_row)\n",
    "            if len(new_rows) > 0:\n",
    "                new_rows_df = pd.DataFrame(new_rows)\n",
    "                temp = pd.concat([temp, new_rows_df], ignore_index = True)\n",
    "            # 시점에 따라 sort\n",
    "            temp = temp.sort_values(by = ['시점']).reset_index()\n",
    "\n",
    "            # col 별로 90퍼센트 이상으로 존재하는 컬럼만 붙임\n",
    "            for price_col in price_cols:\n",
    "                if sum(temp[price_col] != 0) > 144 * 0.95:\n",
    "                    new_columns[f'{id}__{price_col}'] = temp[price_col]\n",
    "    new_data = pd.concat([pd.DataFrame(new_columns)], axis = 1)\n",
    "    return new_data\n",
    "\n",
    "def gen_transpose_train_sanji(sanji, sanji_list): # train 산지 데이터 재구성\n",
    "    # 필요한 컬럼만 남기고 기본 전처리\n",
    "    sanji = sanji.loc[sanji['등급명']=='상', :]\n",
    "    time_list = sanji['시점'].unique()\n",
    "    sanji['set'] = ['산지']*len(sanji)\n",
    "    sanji['id'] = sanji[['set', '공판장명', '품목명', '품종명', '등급명']].agg('_'.join, axis=1)\n",
    "    sanji = sanji.loc[sanji['id'].isin(sanji_list), :]\n",
    "    price_cols = ['평균가(원/kg)']\n",
    "    new_columns = {}\n",
    "    for id in sanji['id'].unique():\n",
    "        temp = sanji.loc[sanji['id']==id, :]\n",
    "        # 전체 데이터가 90퍼센트가 이상인 id의 데이터만 사용\n",
    "        if len(temp) > 144 * 0.9:\n",
    "            new_rows = []\n",
    "            # 시점에 데이터가 없는 경우 0인 데이터로 생성해서 채움\n",
    "            for time in time_list:\n",
    "                if time not in list(temp['시점']):\n",
    "                    new_row = {\n",
    "                        'id': id,\n",
    "                        '시점': time,\n",
    "                        '총반입량(kg)': 0,\n",
    "                        '총거래금액(원)': 0,\n",
    "                        '평균가(원/kg)': 0,\n",
    "                        '중간가(원/kg)': 0,\n",
    "                        '최저가(원/kg)': 0,\n",
    "                        '최고가(원/kg)': 0,\n",
    "                        '경매 건수': 0,\n",
    "                        '전순 평균가격(원) PreVious SOON': 0,\n",
    "                        '전달 평균가격(원) PreVious MMonth': 0,\n",
    "                        '전년 평균가격(원) PreVious YeaR': 0,\n",
    "                        '평년 평균가격(원) Common Year SOON': 0\n",
    "                    }\n",
    "                    new_rows.append(new_row)\n",
    "            if len(new_rows) > 0:\n",
    "                new_rows_df = pd.DataFrame(new_rows)\n",
    "                temp = pd.concat([temp, new_rows_df], ignore_index = True)\n",
    "            # 시점에 따라 sort\n",
    "            temp = temp.sort_values(by = ['시점']).reset_index()\n",
    "\n",
    "            # col 별로 90퍼센트 이상으로 존재하는 컬럼만 붙임\n",
    "            for price_col in price_cols:\n",
    "                if sum(temp[price_col] != 0) > 144 * 0.95:\n",
    "                    new_columns[f'{id}__{price_col}'] = temp[price_col]\n",
    "    new_data = pd.concat([pd.DataFrame(new_columns)], axis = 1)\n",
    "    return new_data\n",
    "\n",
    "def gen_transpose_test(data, train_cols): # test.csv 데이터 재구성\n",
    "    new_columns = {}\n",
    "    for train_col in train_cols:\n",
    "        id, col = train_col.split('__')\n",
    "        new_columns[train_col] = data.loc[data['id']==id, col].reset_index(drop = True)\n",
    "    new_data = pd.concat([pd.DataFrame(new_columns)], axis = 1)\n",
    "    return new_data\n",
    "\n",
    "def gen_transpose_test_sanji(data, train_cols): # test 산지 데이터 재구성\n",
    "    # test_sanji_id 생성\n",
    "    data['set'] = ['산지']*len(data)\n",
    "    data['id'] = data[['set', '공판장명', '품목명', '품종명', '등급명']].agg('_'.join, axis=1)\n",
    "    # test_time_list 생성\n",
    "    data['시점'] = data['시점'].map(test_time_dict)\n",
    "    time_list = list(data['시점'].unique())\n",
    "\n",
    "    new_columns = {}\n",
    "    # train column에 존재하는 친구들만 추출\n",
    "    for train_col in train_cols:\n",
    "        id, col = train_col.split('__')\n",
    "        # test 도매 데이터 중 id가 같은 애들이 시점과 col만 임시로 저장\n",
    "        temp = data.loc[data['id']==id, ['시점', col]]\n",
    "        new_rows = []\n",
    "        # 시점이 없는 데이터를 0으로 일단 채움\n",
    "        for time in time_list:\n",
    "            if time not in list(temp['시점']):\n",
    "                new_row = {\n",
    "                        'id': id,\n",
    "                        '시점': time,\n",
    "                        col : 0\n",
    "                    }\n",
    "                new_rows.append(new_row)\n",
    "        if len(new_rows) > 0:\n",
    "            new_rows_df = pd.DataFrame(new_rows)\n",
    "            temp = pd.concat([temp, new_rows_df])\n",
    "        # 시점에 따라 sort\n",
    "        temp = temp.sort_values(by = ['시점']).reset_index(drop = True)\n",
    "\n",
    "        new_columns[train_col] = temp[col].reset_index(drop = True)\n",
    "    new_data = pd.concat([pd.DataFrame(new_columns)], axis = 1)\n",
    "    return new_data\n",
    "\n",
    "def gen_transpose_test_dome(data, train_cols): # test 도매 데이터 재구성\n",
    "    # test_sanji_id 생성\n",
    "    data['set'] = ['도매']*len(data)\n",
    "    data['id'] = data[['set', '시장명', '품목명', '품종명']].agg('_'.join, axis=1)\n",
    "    # test_time_list 생성\n",
    "    data['시점'] = data['시점'].map(test_time_dict)\n",
    "    time_list = list(data['시점'].unique())\n",
    "\n",
    "    new_columns = {}\n",
    "    # train column에 존재하는 친구들만 추출\n",
    "    for train_col in train_cols:\n",
    "        id, col = train_col.split('__')\n",
    "        # test 도매 데이터 중 id가 같은 애들이 시점과 col만 임시로 저장\n",
    "        temp = data.loc[data['id']==id, ['시점', col]]\n",
    "        new_rows = []\n",
    "        # 시점이 없는 데이터를 0으로 일단 채움\n",
    "        for time in time_list:\n",
    "            if time not in list(temp['시점']):\n",
    "                new_row = {\n",
    "                        'id': id,\n",
    "                        '시점': time,\n",
    "                        col : 0\n",
    "                    }\n",
    "                new_rows.append(new_row)\n",
    "        if len(new_rows) > 0:\n",
    "            new_rows_df = pd.DataFrame(new_rows)\n",
    "            temp = pd.concat([temp, new_rows_df])\n",
    "        # 시점에 따라 sort\n",
    "        temp = temp.sort_values(by = ['시점']).reset_index(drop = True)\n",
    "\n",
    "        new_columns[train_col] = temp[col].reset_index(drop = True)\n",
    "    new_data = pd.concat([pd.DataFrame(new_columns)], axis = 1)\n",
    "    return new_data\n",
    "\n",
    "# train 산지 id 추출\n",
    "sanji = pd.read_csv(sanji_path)\n",
    "sanji['set'] = ['산지']*len(sanji)\n",
    "sanji['id'] = sanji[['set', '공판장명', '품목명', '품종명', '등급명']].agg('_'.join, axis=1)\n",
    "train_sanji_id = set(sanji['id'].unique())\n",
    "\n",
    "# train 도매 id 추출\n",
    "dome = pd.read_csv(dome_path)\n",
    "dome['set'] = ['도매']*len(dome)\n",
    "dome['id'] = dome[['set', '시장명', '품목명', '품종명']].agg('_'.join, axis=1)\n",
    "train_dome_id = set(dome['id'].unique())\n",
    "\n",
    "# test 산지, 도매 파일\n",
    "test_files = glob.glob(\"data/test/meta/*.csv\")\n",
    "test_sanji_files = []\n",
    "test_dome_files = []\n",
    "for file in test_files:\n",
    "    if '산지' in file:\n",
    "        test_sanji_files.append(file)\n",
    "    else:\n",
    "        test_dome_files.append(file)\n",
    "\n",
    "# test와 train 산지 파일에 모두 존재하는 id 추출\n",
    "for file in test_sanji_files:\n",
    "    test_sanji = pd.read_csv(file)\n",
    "    test_sanji['set'] = ['산지']*len(test_sanji)\n",
    "    test_sanji['id'] = test_sanji[['set', '공판장명', '품목명', '품종명', '등급명']].agg('_'.join, axis=1)\n",
    "\n",
    "    sanji_id = train_sanji_id.intersection(set(test_sanji['id'].unique()))\n",
    "print('산지', len(sanji_id))\n",
    "\n",
    "# test와 train 도매 파일에 모두 존재하는 id 추출\n",
    "for file in test_dome_files:\n",
    "    test_dome = pd.read_csv(file)\n",
    "    test_dome['set'] = ['도매']*len(test_dome)\n",
    "    test_dome['id'] = test_dome[['set', '시장명', '품목명', '품종명']].agg('_'.join, axis=1)\n",
    "\n",
    "    dome_id = train_dome_id.intersection(set(test_dome['id'].unique()))\n",
    "print('도매', len(dome_id))"
   ]
  },
  {
   "cell_type": "code",
   "execution_count": 5,
   "metadata": {},
   "outputs": [
    {
     "name": "stderr",
     "output_type": "stream",
     "text": [
      "C:\\Users\\house\\AppData\\Local\\Temp\\ipykernel_22296\\728383018.py:96: SettingWithCopyWarning: \n",
      "A value is trying to be set on a copy of a slice from a DataFrame.\n",
      "Try using .loc[row_indexer,col_indexer] = value instead\n",
      "\n",
      "See the caveats in the documentation: https://pandas.pydata.org/pandas-docs/stable/user_guide/indexing.html#returning-a-view-versus-a-copy\n",
      "  sanji['set'] = ['산지']*len(sanji)\n",
      "C:\\Users\\house\\AppData\\Local\\Temp\\ipykernel_22296\\728383018.py:97: SettingWithCopyWarning: \n",
      "A value is trying to be set on a copy of a slice from a DataFrame.\n",
      "Try using .loc[row_indexer,col_indexer] = value instead\n",
      "\n",
      "See the caveats in the documentation: https://pandas.pydata.org/pandas-docs/stable/user_guide/indexing.html#returning-a-view-versus-a-copy\n",
      "  sanji['id'] = sanji[['set', '공판장명', '품목명', '품종명', '등급명']].agg('_'.join, axis=1)\n"
     ]
    }
   ],
   "source": [
    "# train.csv\n",
    "train = pd.read_csv('data/train/train.csv')\n",
    "train = gen_transpose_train(basic_preprocess_train(time_preprocess(pd.read_csv('data/train/train.csv')), apple = True))\n",
    "\n",
    "# train 산지\n",
    "sanji = gen_transpose_train_sanji(pd.read_csv(sanji_path), sanji_id)\n",
    "# train 도매\n",
    "# dome = gen_transpose_train_dome(pd.read_csv(dome_path), dome_id)\n",
    "\n",
    "# train, 산지, 도매 concat\n",
    "train = pd.concat([train, sanji], axis = 1)\n",
    "total = 0\n",
    "\n",
    "train = train.replace(0, np.nan)\n",
    "train = train.interpolate(method=\"cubic\")\n",
    "train = train.fillna(train.mean())"
   ]
  },
  {
   "cell_type": "code",
   "execution_count": 6,
   "metadata": {},
   "outputs": [
    {
     "name": "stdout",
     "output_type": "stream",
     "text": [
      "건고추_화건_30 kg_상__평년 평균가격(원) 0 (0.0)%\n",
      "건고추_화건_30 kg_상__평균가격(원) 0 (0.0)%\n",
      "건고추_양건_30 kg_중__평년 평균가격(원) 0 (0.0)%\n",
      "건고추_양건_30 kg_중__평균가격(원) 0 (0.0)%\n",
      "건고추_양건_30 kg_상__평년 평균가격(원) 0 (0.0)%\n",
      "건고추_양건_30 kg_상__평균가격(원) 0 (0.0)%\n",
      "건고추_화건_30 kg_중__평년 평균가격(원) 0 (0.0)%\n",
      "건고추_화건_30 kg_중__평균가격(원) 0 (0.0)%\n",
      "사과_홍로, 후지_10 개_상__평년 평균가격(원) 0 (0.0)%\n",
      "사과_홍로, 후지_10 개_상__평균가격(원) 0 (0.0)%\n",
      "감자_감자 수미_20키로상자_상__평년 평균가격(원) 0 (0.0)%\n",
      "감자_감자 수미_20키로상자_상__평균가격(원) 0 (0.0)%\n",
      "감자_감자 수미_20키로상자_하__평년 평균가격(원) 0 (0.0)%\n",
      "감자_감자 수미_20키로상자_하__평균가격(원) 0 (0.0)%\n",
      "감자_감자 수미_20키로상자_중__평년 평균가격(원) 0 (0.0)%\n",
      "감자_감자 수미_20키로상자_중__평균가격(원) 0 (0.0)%\n",
      "감자_감자 수미_20키로상자_특__평년 평균가격(원) 0 (0.0)%\n",
      "감자_감자 수미_20키로상자_특__평균가격(원) 0 (0.0)%\n",
      "배_신고_10 개_상__평년 평균가격(원) 0 (0.0)%\n",
      "배_신고_10 개_상__평균가격(원) 0 (0.0)%\n",
      "배_신고_10 개_중__평년 평균가격(원) 0 (0.0)%\n",
      "배_신고_10 개_중__평균가격(원) 0 (0.0)%\n",
      "깐마늘(국산)_깐마늘(국산)_20 kg_상__평균가격(원) 0 (0.0)%\n",
      "깐마늘(국산)_깐마늘(국산)_20 kg_중__평균가격(원) 0 (0.0)%\n",
      "무_무_20키로상자_상__평균가격(원) 0 (0.0)%\n",
      "무_무_20키로상자_중__평균가격(원) 0 (0.0)%\n",
      "무_열무_4키로상자_하__평년 평균가격(원) 0 (0.0)%\n",
      "무_열무_4키로상자_하__평균가격(원) 0 (0.0)%\n",
      "무_열무_4키로상자_상__평년 평균가격(원) 0 (0.0)%\n",
      "무_열무_4키로상자_상__평균가격(원) 0 (0.0)%\n",
      "무_무_20키로상자_특__평균가격(원) 0 (0.0)%\n",
      "무_열무_4키로상자_중__평균가격(원) 0 (0.0)%\n",
      "무_열무_1.5키로단_중__평년 평균가격(원) 0 (0.0)%\n",
      "무_열무_1.5키로단_중__평균가격(원) 0 (0.0)%\n",
      "무_무_20키로상자_하__평균가격(원) 0 (0.0)%\n",
      "무_열무_1.5키로단_하__평년 평균가격(원) 0 (0.0)%\n",
      "무_열무_1.5키로단_하__평균가격(원) 0 (0.0)%\n",
      "무_열무_1.5키로단_상__평년 평균가격(원) 0 (0.0)%\n",
      "무_열무_1.5키로단_상__평균가격(원) 0 (0.0)%\n",
      "상추_청_100 g_상__평년 평균가격(원) 0 (0.0)%\n",
      "상추_청_100 g_상__평균가격(원) 0 (0.0)%\n",
      "상추_청_100 g_중__평년 평균가격(원) 0 (0.0)%\n",
      "상추_청_100 g_중__평균가격(원) 0 (0.0)%\n",
      "상추_적_100 g_중__평년 평균가격(원) 0 (0.0)%\n",
      "상추_적_100 g_중__평균가격(원) 0 (0.0)%\n",
      "상추_적_100 g_상__평년 평균가격(원) 0 (0.0)%\n",
      "상추_적_100 g_상__평균가격(원) 0 (0.0)%\n",
      "배추_배추_10키로망대_상__평년 평균가격(원) 0 (0.0)%\n",
      "배추_배추_10키로망대_상__평균가격(원) 0 (0.0)%\n",
      "배추_배추_10키로망대_하__평년 평균가격(원) 0 (0.0)%\n",
      "배추_배추_10키로망대_하__평균가격(원) 0 (0.0)%\n",
      "배추_쌈배추_1키로상자_특__평균가격(원) 0 (0.0)%\n",
      "배추_배추_10키로망대_중__평년 평균가격(원) 0 (0.0)%\n",
      "배추_배추_10키로망대_중__평균가격(원) 0 (0.0)%\n",
      "배추_알배기배추_8키로상자_중__평년 평균가격(원) 0 (0.0)%\n",
      "배추_알배기배추_8키로상자_중__평균가격(원) 0 (0.0)%\n",
      "배추_쌈배추_1키로상자_상__평균가격(원) 0 (0.0)%\n",
      "배추_쌈배추_8키로상자_상__평균가격(원) 0 (0.0)%\n",
      "배추_쌈배추_1키로상자_하__평균가격(원) 0 (0.0)%\n",
      "배추_쌈배추_8키로상자_특__평균가격(원) 0 (0.0)%\n",
      "배추_알배기배추_8키로상자_하__평년 평균가격(원) 0 (0.0)%\n",
      "배추_알배기배추_8키로상자_하__평균가격(원) 0 (0.0)%\n",
      "배추_얼갈이배추_4키로상자_상__평년 평균가격(원) 0 (0.0)%\n",
      "배추_얼갈이배추_4키로상자_상__평균가격(원) 0 (0.0)%\n",
      "배추_얼갈이배추_4키로상자_중__평년 평균가격(원) 0 (0.0)%\n",
      "배추_얼갈이배추_4키로상자_중__평균가격(원) 0 (0.0)%\n",
      "배추_알배기배추_8키로상자_상__평년 평균가격(원) 0 (0.0)%\n",
      "배추_알배기배추_8키로상자_상__평균가격(원) 0 (0.0)%\n",
      "배추_배추_10키로망대_특__평년 평균가격(원) 0 (0.0)%\n",
      "배추_배추_10키로망대_특__평균가격(원) 0 (0.0)%\n",
      "배추_얼갈이배추_4키로상자_하__평년 평균가격(원) 0 (0.0)%\n",
      "배추_얼갈이배추_4키로상자_하__평균가격(원) 0 (0.0)%\n",
      "배추_쌈배추_8키로상자_중__평균가격(원) 0 (0.0)%\n",
      "배추_쌈배추_1키로상자_중__평균가격(원) 0 (0.0)%\n",
      "배추_쌈배추_8키로상자_하__평균가격(원) 0 (0.0)%\n",
      "배추_알배기배추_8키로상자_특__평년 평균가격(원) 0 (0.0)%\n",
      "배추_알배기배추_8키로상자_특__평균가격(원) 0 (0.0)%\n",
      "양파_양파_1키로_상__평년 평균가격(원) 0 (0.0)%\n",
      "양파_양파_1키로_상__평균가격(원) 0 (0.0)%\n",
      "양파_양파_15키로_하__평균가격(원) 0 (0.0)%\n",
      "양파_양파_20키로_하__평균가격(원) 0 (0.0)%\n",
      "양파_자주양파_1키로_특__평균가격(원) 0 (0.0)%\n",
      "양파_양파_20키로_중__평균가격(원) 0 (0.0)%\n",
      "양파_양파_12키로_상__평균가격(원) 0 (0.0)%\n",
      "양파_양파_12키로_특__평균가격(원) 0 (0.0)%\n",
      "양파_양파_15키로_중__평균가격(원) 0 (0.0)%\n",
      "양파_양파_1키로_하__평년 평균가격(원) 0 (0.0)%\n",
      "양파_양파_1키로_하__평균가격(원) 0 (0.0)%\n",
      "양파_자주양파_1키로_중__평균가격(원) 0 (0.0)%\n",
      "양파_양파_20키로_특__평균가격(원) 0 (0.0)%\n",
      "양파_양파_20키로_상__평균가격(원) 0 (0.0)%\n",
      "양파_양파_15키로_상__평균가격(원) 0 (0.0)%\n",
      "양파_자주양파_1키로_상__평균가격(원) 0 (0.0)%\n",
      "양파_양파_1키로_중__평년 평균가격(원) 0 (0.0)%\n",
      "양파_양파_1키로_중__평균가격(원) 0 (0.0)%\n",
      "양파_자주양파_20키로_중__평균가격(원) 0 (0.0)%\n",
      "양파_자주양파_1키로_하__평균가격(원) 0 (0.0)%\n",
      "양파_양파_12키로_하__평균가격(원) 0 (0.0)%\n",
      "양파_자주양파_20키로_하__평균가격(원) 0 (0.0)%\n",
      "양파_자주양파_20키로_특__평균가격(원) 0 (0.0)%\n",
      "양파_양파_15키로_특__평균가격(원) 0 (0.0)%\n",
      "양파_양파_12키로_중__평균가격(원) 0 (0.0)%\n",
      "양파_자주양파_20키로_상__평균가격(원) 0 (0.0)%\n",
      "양파_양파_1키로_특__평년 평균가격(원) 0 (0.0)%\n",
      "양파_양파_1키로_특__평균가격(원) 0 (0.0)%\n",
      "대파_대파(일반)_1키로단_상__평년 평균가격(원) 0 (0.0)%\n",
      "대파_대파(일반)_1키로단_상__평균가격(원) 0 (0.0)%\n",
      "대파_깐쪽파_10키로상자_상__평년 평균가격(원) 0 (0.0)%\n",
      "대파_깐쪽파_10키로상자_상__평균가격(원) 0 (0.0)%\n",
      "대파_깐쪽파_10키로상자_중__평년 평균가격(원) 0 (0.0)%\n",
      "대파_깐쪽파_10키로상자_중__평균가격(원) 0 (0.0)%\n",
      "대파_쪽파_10키로상자_특__평년 평균가격(원) 0 (0.0)%\n",
      "대파_쪽파_10키로상자_특__평균가격(원) 0 (0.0)%\n",
      "대파_대파(일반)_1키로단_하__평년 평균가격(원) 0 (0.0)%\n",
      "대파_대파(일반)_1키로단_하__평균가격(원) 0 (0.0)%\n",
      "대파_대파(일반)_1키로단_특__평년 평균가격(원) 0 (0.0)%\n",
      "대파_대파(일반)_1키로단_특__평균가격(원) 0 (0.0)%\n",
      "대파_쪽파_10키로상자_하__평년 평균가격(원) 0 (0.0)%\n",
      "대파_쪽파_10키로상자_하__평균가격(원) 0 (0.0)%\n",
      "대파_쪽파_10키로상자_중__평년 평균가격(원) 0 (0.0)%\n",
      "대파_쪽파_10키로상자_중__평균가격(원) 0 (0.0)%\n",
      "대파_대파(일반)_1키로단_중__평년 평균가격(원) 0 (0.0)%\n",
      "대파_대파(일반)_1키로단_중__평균가격(원) 0 (0.0)%\n",
      "대파_쪽파_10키로상자_상__평년 평균가격(원) 0 (0.0)%\n",
      "대파_쪽파_10키로상자_상__평균가격(원) 0 (0.0)%\n",
      "대파_깐쪽파_10키로상자_특__평년 평균가격(원) 0 (0.0)%\n",
      "대파_깐쪽파_10키로상자_특__평균가격(원) 0 (0.0)%\n",
      "대파_깐쪽파_10키로상자_하__평년 평균가격(원) 0 (0.0)%\n",
      "대파_깐쪽파_10키로상자_하__평균가격(원) 0 (0.0)%\n",
      "산지_*전국농협공판장_감자_수미_상__평균가(원/kg) 0 (0.0)%\n",
      "산지_*전국농협공판장_감자_기타감자_상__평균가(원/kg) 0 (0.0)%\n",
      "산지_*전국농협공판장_사과_기타사과_상__평균가(원/kg) 0 (0.0)%\n",
      "산지_*전국농협공판장_배_신고_상__평균가(원/kg) 0 (0.0)%\n",
      "산지_*전국농협공판장_배추_쌈배추_상__평균가(원/kg) 0 (0.0)%\n",
      "산지_*전국농협공판장_무_기타무_상__평균가(원/kg) 0 (0.0)%\n",
      "산지_*전국농협공판장_양파_기타양파_상__평균가(원/kg) 0 (0.0)%\n",
      "산지_*전국농협공판장_대파_대파(일반)_상__평균가(원/kg) 0 (0.0)%\n",
      "산지_제천농협공판장_감자_수미_상__평균가(원/kg) 0 (0.0)%\n",
      "산지_제천농협공판장_양파_기타양파_상__평균가(원/kg) 0 (0.0)%\n",
      "산지_나주배농업협동조합_배_신고_상__평균가(원/kg) 0 (0.0)%\n",
      "산지_대구공판장_배_신고_상__평균가(원/kg) 0 (0.0)%\n",
      "0 (0.0%)\n"
     ]
    }
   ],
   "source": [
    "for c in train.columns:\n",
    "    print(c, sum(train[c] == 0), f'({round(100*sum(train[c]==0)/144, 2)})%')\n",
    "    total = total + sum(train[c]==0)\n",
    "print(total, f'({round(100*total/(144*144),2)}%)')"
   ]
  },
  {
   "cell_type": "code",
   "execution_count": 7,
   "metadata": {},
   "outputs": [
    {
     "name": "stdout",
     "output_type": "stream",
     "text": [
      "건고추_화건_30 kg_상 0\n",
      "사과_홍로, 후지_10 개_상 0\n",
      "감자_감자 수미_20키로상자_상 0\n",
      "배_신고_10 개_상 0\n",
      "깐마늘(국산)_깐마늘(국산)_20 kg_상 0\n",
      "무_무_20키로상자_상 0\n",
      "상추_청_100 g_상 0\n",
      "배추_배추_10키로망대_상 0\n",
      "양파_양파_1키로_상 0\n",
      "대파_대파(일반)_1키로단_상 0\n"
     ]
    }
   ],
   "source": [
    "for c in target_id:\n",
    "    print(c, sum(train[c+'__평균가격(원)']==0))"
   ]
  },
  {
   "cell_type": "code",
   "execution_count": 8,
   "metadata": {},
   "outputs": [],
   "source": [
    "scaler = Scaler()\n",
    "train_scaled = scaler.fit_transform(TimeSeries.from_dataframe(train), time_col='시점점')\n",
    "\n",
    "# TSMixer 모델 생성 및 학습\n",
    "input_chunk_length = 2\n",
    "output_chunk_length = 1\n",
    "use_static_covariates = False\n",
    "full_training = True\n",
    "\n",
    "# 데이터셋 분할\n",
    "train_size = int(len(train_scaled) * 0.8)\n",
    "train_ts, val_ts = train_scaled.split_after(train_size)"
   ]
  },
  {
   "cell_type": "code",
   "execution_count": 9,
   "metadata": {},
   "outputs": [
    {
     "data": {
      "text/plain": [
       "(144, 141)"
      ]
     },
     "execution_count": 9,
     "metadata": {},
     "output_type": "execute_result"
    }
   ],
   "source": [
    "train.shape"
   ]
  },
  {
   "cell_type": "code",
   "execution_count": 10,
   "metadata": {},
   "outputs": [
    {
     "name": "stderr",
     "output_type": "stream",
     "text": [
      "GPU available: False, used: False\n",
      "TPU available: False, using: 0 TPU cores\n",
      "HPU available: False, using: 0 HPUs\n",
      "\n",
      "  | Name                | Type             | Params | Mode \n",
      "-----------------------------------------------------------------\n",
      "0 | criterion           | L1Loss           | 0      | train\n",
      "1 | train_criterion     | L1Loss           | 0      | train\n",
      "2 | val_criterion       | L1Loss           | 0      | train\n",
      "3 | train_metrics       | MetricCollection | 0      | train\n",
      "4 | val_metrics         | MetricCollection | 0      | train\n",
      "5 | rin                 | RINorm           | 282    | train\n",
      "6 | fc_hist             | Linear           | 3      | train\n",
      "7 | feature_mixing_hist | _FeatureMixing   | 22.5 K | train\n",
      "8 | conditional_mixer   | ModuleList       | 17.2 K | train\n",
      "9 | fc_out              | Linear           | 9.2 K  | train\n",
      "-----------------------------------------------------------------\n",
      "49.1 K    Trainable params\n",
      "0         Non-trainable params\n",
      "49.1 K    Total params\n",
      "0.196     Total estimated model params size (MB)\n",
      "46        Modules in train mode\n",
      "0         Modules in eval mode\n",
      "c:\\Users\\house\\Anaconda3\\envs\\price_predict\\lib\\site-packages\\pytorch_lightning\\loops\\fit_loop.py:298: The number of training batches (4) is smaller than the logging interval Trainer(log_every_n_steps=50). Set a lower value for log_every_n_steps if you want to see logs for the training epoch.\n"
     ]
    },
    {
     "name": "stdout",
     "output_type": "stream",
     "text": [
      "Epoch 303: 100%|██████████| 4/4 [00:00<00:00, 28.21it/s, v_num=134, train_loss=0.0534, val_loss=0.0849]\n"
     ]
    },
    {
     "name": "stderr",
     "output_type": "stream",
     "text": [
      "c:\\Users\\house\\Anaconda3\\envs\\price_predict\\lib\\site-packages\\darts\\models\\forecasting\\torch_forecasting_model.py:1842: FutureWarning: You are using `torch.load` with `weights_only=False` (the current default value), which uses the default pickle module implicitly. It is possible to construct malicious pickle data which will execute arbitrary code during unpickling (See https://github.com/pytorch/pytorch/blob/main/SECURITY.md#untrusted-models for more details). In a future release, the default value for `weights_only` will be flipped to `True`. This limits the functions that could be executed during unpickling. Arbitrary objects will no longer be allowed to be loaded via this mode unless they are explicitly allowlisted by the user via `torch.serialization.add_safe_globals`. We recommend you start setting `weights_only=True` for any use case where you don't have full control of the loaded file. Please open an issue on GitHub for any issues related to this experimental feature.\n",
      "  model: TorchForecastingModel = torch.load(\n"
     ]
    }
   ],
   "source": [
    "def create_params(input_chunk_length: int, output_chunk_length: int, full_training=True):\n",
    "    early_stopper = EarlyStopping(\n",
    "        monitor=\"val_loss\",\n",
    "        patience=50,\n",
    "        min_delta=1e-5,\n",
    "        mode=\"min\",\n",
    "    )\n",
    "    \n",
    "    # logger 선언 먼저\n",
    "    logger = TensorBoardLogger(\"tb_logs\", name=\"my_model\")\n",
    "    # only show the training and prediction progress bars\n",
    "    progress_bar = TFMProgressBar(enable_sanity_check_bar=False, enable_validation_bar=False)  \n",
    "    # PyTorch Lightning Trainer arguments (you can add any custom callback)\n",
    "    \n",
    "    if full_training:\n",
    "        limit_train_batches = None\n",
    "        limit_val_batches = None\n",
    "        max_epochs = 1000\n",
    "        batch_size = 29\n",
    "    else:\n",
    "        limit_train_batches = 20\n",
    "        limit_val_batches = 10\n",
    "        max_epochs = 10\n",
    "        batch_size = 64\n",
    "        \n",
    "    pl_trainer_kwargs = {\n",
    "        \"gradient_clip_val\": 1,\n",
    "        \"max_epochs\": max_epochs,\n",
    "        \"limit_train_batches\": limit_train_batches,\n",
    "        \"limit_val_batches\": limit_val_batches,\n",
    "        \"accelerator\": \"auto\",\n",
    "        \"callbacks\": [early_stopper, progress_bar, LossLogger()],\n",
    "        \"logger\": logger,  # 여기서 logger 변수를 참조\n",
    "    }\n",
    "       # optimizer setup, uses Adam by default\n",
    "    optimizer_cls = torch.optim.Adam\n",
    "    optimizer_kwargs = {\"lr\": 1e-4,}\n",
    "    \n",
    "    # learning rate scheduler\n",
    "    lr_scheduler_cls = torch.optim.lr_scheduler.ExponentialLR\n",
    "    lr_scheduler_kwargs = {\"gamma\": 0.999}\n",
    "    \n",
    "    # for probabilistic models, we use quantile regression, and set `loss_fn` to `None`\n",
    "    likelihood = None #QuantileRegression()\n",
    "    loss_fn = torch.nn.L1Loss()\n",
    "\n",
    "    return {\n",
    "        \"input_chunk_length\": input_chunk_length,\n",
    "        \"output_chunk_length\": output_chunk_length,\n",
    "        \"use_reversible_instance_norm\": True,\n",
    "        \"batch_size\": batch_size,\n",
    "        \"pl_trainer_kwargs\": pl_trainer_kwargs,\n",
    "        \"optimizer_cls\": optimizer_cls,\n",
    "        \"optimizer_kwargs\": optimizer_kwargs,\n",
    "        \"lr_scheduler_cls\": lr_scheduler_cls,\n",
    "        \"lr_scheduler_kwargs\": lr_scheduler_kwargs,\n",
    "        \"likelihood\": likelihood,  # use a `likelihood` for probabilistic forecasts\n",
    "        \"loss_fn\": loss_fn,  # use a `loss_fn` for determinsitic model\n",
    "        \"save_checkpoints\": True,  # checkpoint to retrieve the best performing model state,\n",
    "        \"force_reset\": True,\n",
    "        \"batch_size\": batch_size,\n",
    "        \"random_state\": 42,\n",
    "            }  # add cyclic time axis encodings as future covariates\n",
    "\n",
    "# Create and train the TSMixer model\n",
    "tsmixer_model = TSMixerModel(\n",
    "    **create_params(\n",
    "        input_chunk_length,\n",
    "        output_chunk_length,\n",
    "        full_training=full_training,\n",
    "    ),\n",
    "    use_static_covariates=use_static_covariates,\n",
    "    model_name=\"tsm\",\n",
    "    num_blocks= 2,\n",
    "    dropout=0.1\n",
    ")\n",
    "# 학습 및 검증ahepf\n",
    "tsmixer_model.fit(series=train_ts, val_series=val_ts)\n",
    "tsmixer_model= tsmixer_model.load_from_checkpoint(model_name=\"tsm\", best=True)"
   ]
  },
  {
   "cell_type": "code",
   "execution_count": 11,
   "metadata": {},
   "outputs": [
    {
     "data": {
      "image/png": "[encoded data removed]",
      "text/plain": [
       "<Figure size 640x480 with 1 Axes>"
      ]
     },
     "metadata": {},
     "output_type": "display_data"
    }
   ],
   "source": [
    "# 학습 및 검증 손실 시각화\n",
    "plt.plot(train_losses, label='Train Loss')\n",
    "plt.plot(val_losses, label='Validation Loss')\n",
    "plt.xlabel('Epochs')\n",
    "plt.ylabel('Loss')\n",
    "plt.title('Training and Validation Loss')\n",
    "plt.legend()\n",
    "plt.show()"
   ]
  },
  {
   "cell_type": "code",
   "execution_count": 12,
   "metadata": {},
   "outputs": [
    {
     "name": "stdout",
     "output_type": "stream",
     "text": [
      "train.csv : 129\n",
      "train 산지 : 12\n",
      "train 도매 : 0\n"
     ]
    }
   ],
   "source": [
    "# train column중 train/산지/도매 데이터와 관련된 column끼리 분리\n",
    "train_cols = []\n",
    "train_sanji_cols = []\n",
    "train_dome_cols = []\n",
    "for col in train.columns:\n",
    "    if '산지' in col:\n",
    "        train_sanji_cols.append(col)\n",
    "    elif '도매' in col:\n",
    "        train_dome_cols.append(col)\n",
    "    else:\n",
    "        train_cols.append(col)\n",
    "print('train.csv :', len(train_cols))\n",
    "print('train 산지 :', len(train_sanji_cols))\n",
    "print('train 도매 :', len(train_dome_cols))"
   ]
  },
  {
   "cell_type": "code",
   "execution_count": 13,
   "metadata": {},
   "outputs": [
    {
     "name": "stdout",
     "output_type": "stream",
     "text": [
      "0 "
     ]
    },
    {
     "name": "stderr",
     "output_type": "stream",
     "text": [
      "GPU available: False, used: False\n",
      "TPU available: False, using: 0 TPU cores\n",
      "HPU available: False, using: 0 HPUs\n"
     ]
    },
    {
     "name": "stdout",
     "output_type": "stream",
     "text": [
      "Predicting DataLoader 0: 100%|██████████| 1/1 [00:00<00:00, 199.97it/s]"
     ]
    },
    {
     "name": "stderr",
     "output_type": "stream",
     "text": [
      "GPU available: False, used: False\n",
      "TPU available: False, using: 0 TPU cores\n",
      "HPU available: False, using: 0 HPUs\n"
     ]
    },
    {
     "name": "stdout",
     "output_type": "stream",
     "text": [
      "\n",
      "Predicting DataLoader 0: 100%|██████████| 1/1 [00:00<00:00, 220.28it/s]"
     ]
    },
    {
     "name": "stderr",
     "output_type": "stream",
     "text": [
      "GPU available: False, used: False\n",
      "TPU available: False, using: 0 TPU cores\n",
      "HPU available: False, using: 0 HPUs\n"
     ]
    },
    {
     "name": "stdout",
     "output_type": "stream",
     "text": [
      "\n",
      "Predicting DataLoader 0: 100%|██████████| 1/1 [00:00<00:00, 246.42it/s]\n",
      "1 "
     ]
    },
    {
     "name": "stderr",
     "output_type": "stream",
     "text": [
      "GPU available: False, used: False\n",
      "TPU available: False, using: 0 TPU cores\n",
      "HPU available: False, using: 0 HPUs\n"
     ]
    },
    {
     "name": "stdout",
     "output_type": "stream",
     "text": [
      "Predicting DataLoader 0: 100%|██████████| 1/1 [00:00<00:00, 282.44it/s]"
     ]
    },
    {
     "name": "stderr",
     "output_type": "stream",
     "text": [
      "GPU available: False, used: False\n",
      "TPU available: False, using: 0 TPU cores\n",
      "HPU available: False, using: 0 HPUs\n"
     ]
    },
    {
     "name": "stdout",
     "output_type": "stream",
     "text": [
      "\n",
      "Predicting DataLoader 0: 100%|██████████| 1/1 [00:00<00:00, 199.94it/s]"
     ]
    },
    {
     "name": "stderr",
     "output_type": "stream",
     "text": [
      "GPU available: False, used: False\n",
      "TPU available: False, using: 0 TPU cores\n",
      "HPU available: False, using: 0 HPUs\n"
     ]
    },
    {
     "name": "stdout",
     "output_type": "stream",
     "text": [
      "\n",
      "Predicting DataLoader 0: 100%|██████████| 1/1 [00:00<00:00, 217.52it/s]\n",
      "2 "
     ]
    },
    {
     "name": "stderr",
     "output_type": "stream",
     "text": [
      "GPU available: False, used: False\n",
      "TPU available: False, using: 0 TPU cores\n",
      "HPU available: False, using: 0 HPUs\n"
     ]
    },
    {
     "name": "stdout",
     "output_type": "stream",
     "text": [
      "Predicting DataLoader 0: 100%|██████████| 1/1 [00:00<00:00, 103.19it/s]"
     ]
    },
    {
     "name": "stderr",
     "output_type": "stream",
     "text": [
      "GPU available: False, used: False\n",
      "TPU available: False, using: 0 TPU cores\n",
      "HPU available: False, using: 0 HPUs\n"
     ]
    },
    {
     "name": "stdout",
     "output_type": "stream",
     "text": [
      "\n",
      "Predicting DataLoader 0: 100%|██████████| 1/1 [00:00<00:00, 86.78it/s] "
     ]
    },
    {
     "name": "stderr",
     "output_type": "stream",
     "text": [
      "GPU available: False, used: False\n",
      "TPU available: False, using: 0 TPU cores\n"
     ]
    },
    {
     "name": "stdout",
     "output_type": "stream",
     "text": [
      "\n"
     ]
    },
    {
     "name": "stderr",
     "output_type": "stream",
     "text": [
      "HPU available: False, using: 0 HPUs\n"
     ]
    },
    {
     "name": "stdout",
     "output_type": "stream",
     "text": [
      "Predicting DataLoader 0: 100%|██████████| 1/1 [00:00<00:00, 90.69it/s] \n",
      "3 "
     ]
    },
    {
     "name": "stderr",
     "output_type": "stream",
     "text": [
      "GPU available: False, used: False\n",
      "TPU available: False, using: 0 TPU cores\n",
      "HPU available: False, using: 0 HPUs\n"
     ]
    },
    {
     "name": "stdout",
     "output_type": "stream",
     "text": [
      "Predicting DataLoader 0: 100%|██████████| 1/1 [00:00<00:00, 122.01it/s]"
     ]
    },
    {
     "name": "stderr",
     "output_type": "stream",
     "text": [
      "GPU available: False, used: False\n",
      "TPU available: False, using: 0 TPU cores\n",
      "HPU available: False, using: 0 HPUs\n"
     ]
    },
    {
     "name": "stdout",
     "output_type": "stream",
     "text": [
      "\n",
      "Predicting DataLoader 0: 100%|██████████| 1/1 [00:00<00:00, 180.32it/s]"
     ]
    },
    {
     "name": "stderr",
     "output_type": "stream",
     "text": [
      "GPU available: False, used: False\n",
      "TPU available: False, using: 0 TPU cores\n",
      "HPU available: False, using: 0 HPUs\n"
     ]
    },
    {
     "name": "stdout",
     "output_type": "stream",
     "text": [
      "\n",
      "Predicting DataLoader 0: 100%|██████████| 1/1 [00:00<00:00, 179.07it/s]\n",
      "4 "
     ]
    },
    {
     "name": "stderr",
     "output_type": "stream",
     "text": [
      "GPU available: False, used: False\n",
      "TPU available: False, using: 0 TPU cores\n",
      "HPU available: False, using: 0 HPUs\n"
     ]
    },
    {
     "name": "stdout",
     "output_type": "stream",
     "text": [
      "Predicting DataLoader 0: 100%|██████████| 1/1 [00:00<00:00, 200.03it/s]"
     ]
    },
    {
     "name": "stderr",
     "output_type": "stream",
     "text": [
      "GPU available: False, used: False\n",
      "TPU available: False, using: 0 TPU cores\n",
      "HPU available: False, using: 0 HPUs\n"
     ]
    },
    {
     "name": "stdout",
     "output_type": "stream",
     "text": [
      "\n",
      "Predicting DataLoader 0: 100%|██████████| 1/1 [00:00<00:00, 179.17it/s]"
     ]
    },
    {
     "name": "stderr",
     "output_type": "stream",
     "text": [
      "GPU available: False, used: False\n",
      "TPU available: False, using: 0 TPU cores\n",
      "HPU available: False, using: 0 HPUs\n"
     ]
    },
    {
     "name": "stdout",
     "output_type": "stream",
     "text": [
      "\n",
      "Predicting DataLoader 0: 100%|██████████| 1/1 [00:00<00:00, 199.19it/s]\n",
      "5 "
     ]
    },
    {
     "name": "stderr",
     "output_type": "stream",
     "text": [
      "GPU available: False, used: False\n",
      "TPU available: False, using: 0 TPU cores\n",
      "HPU available: False, using: 0 HPUs\n"
     ]
    },
    {
     "name": "stdout",
     "output_type": "stream",
     "text": [
      "Predicting DataLoader 0: 100%|██████████| 1/1 [00:00<00:00, 249.93it/s]"
     ]
    },
    {
     "name": "stderr",
     "output_type": "stream",
     "text": [
      "GPU available: False, used: False\n",
      "TPU available: False, using: 0 TPU cores\n",
      "HPU available: False, using: 0 HPUs\n"
     ]
    },
    {
     "name": "stdout",
     "output_type": "stream",
     "text": [
      "\n",
      "Predicting DataLoader 0: 100%|██████████| 1/1 [00:00<00:00, 199.42it/s]"
     ]
    },
    {
     "name": "stderr",
     "output_type": "stream",
     "text": [
      "GPU available: False, used: False\n",
      "TPU available: False, using: 0 TPU cores\n",
      "HPU available: False, using: 0 HPUs\n"
     ]
    },
    {
     "name": "stdout",
     "output_type": "stream",
     "text": [
      "\n",
      "Predicting DataLoader 0: 100%|██████████| 1/1 [00:00<00:00, 221.23it/s]\n",
      "6 "
     ]
    },
    {
     "name": "stderr",
     "output_type": "stream",
     "text": [
      "GPU available: False, used: False\n",
      "TPU available: False, using: 0 TPU cores\n",
      "HPU available: False, using: 0 HPUs\n"
     ]
    },
    {
     "name": "stdout",
     "output_type": "stream",
     "text": [
      "Predicting DataLoader 0: 100%|██████████| 1/1 [00:00<00:00, 218.93it/s]"
     ]
    },
    {
     "name": "stderr",
     "output_type": "stream",
     "text": [
      "GPU available: False, used: False\n",
      "TPU available: False, using: 0 TPU cores\n",
      "HPU available: False, using: 0 HPUs\n"
     ]
    },
    {
     "name": "stdout",
     "output_type": "stream",
     "text": [
      "\n",
      "Predicting DataLoader 0: 100%|██████████| 1/1 [00:00<00:00, 200.05it/s]"
     ]
    },
    {
     "name": "stderr",
     "output_type": "stream",
     "text": [
      "GPU available: False, used: False\n",
      "TPU available: False, using: 0 TPU cores\n",
      "HPU available: False, using: 0 HPUs\n"
     ]
    },
    {
     "name": "stdout",
     "output_type": "stream",
     "text": [
      "\n",
      "Predicting DataLoader 0: 100%|██████████| 1/1 [00:00<00:00, 179.04it/s]\n",
      "7 "
     ]
    },
    {
     "name": "stderr",
     "output_type": "stream",
     "text": [
      "GPU available: False, used: False\n",
      "TPU available: False, using: 0 TPU cores\n",
      "HPU available: False, using: 0 HPUs\n"
     ]
    },
    {
     "name": "stdout",
     "output_type": "stream",
     "text": [
      "Predicting DataLoader 0: 100%|██████████| 1/1 [00:00<00:00, 224.97it/s]"
     ]
    },
    {
     "name": "stderr",
     "output_type": "stream",
     "text": [
      "GPU available: False, used: False\n",
      "TPU available: False, using: 0 TPU cores\n",
      "HPU available: False, using: 0 HPUs\n"
     ]
    },
    {
     "name": "stdout",
     "output_type": "stream",
     "text": [
      "\n",
      "Predicting DataLoader 0: 100%|██████████| 1/1 [00:00<00:00, 227.59it/s]"
     ]
    },
    {
     "name": "stderr",
     "output_type": "stream",
     "text": [
      "GPU available: False, used: False\n",
      "TPU available: False, using: 0 TPU cores\n",
      "HPU available: False, using: 0 HPUs\n"
     ]
    },
    {
     "name": "stdout",
     "output_type": "stream",
     "text": [
      "\n",
      "Predicting DataLoader 0: 100%|██████████| 1/1 [00:00<00:00, 333.97it/s]\n",
      "8 "
     ]
    },
    {
     "name": "stderr",
     "output_type": "stream",
     "text": [
      "GPU available: False, used: False\n",
      "TPU available: False, using: 0 TPU cores\n",
      "HPU available: False, using: 0 HPUs\n"
     ]
    },
    {
     "name": "stdout",
     "output_type": "stream",
     "text": [
      "Predicting DataLoader 0: 100%|██████████| 1/1 [00:00<00:00, 221.56it/s]"
     ]
    },
    {
     "name": "stderr",
     "output_type": "stream",
     "text": [
      "GPU available: False, used: False\n",
      "TPU available: False, using: 0 TPU cores\n",
      "HPU available: False, using: 0 HPUs\n"
     ]
    },
    {
     "name": "stdout",
     "output_type": "stream",
     "text": [
      "\n",
      "Predicting DataLoader 0: 100%|██████████| 1/1 [00:00<00:00, 250.41it/s]"
     ]
    },
    {
     "name": "stderr",
     "output_type": "stream",
     "text": [
      "GPU available: False, used: False\n",
      "TPU available: False, using: 0 TPU cores\n",
      "HPU available: False, using: 0 HPUs\n"
     ]
    },
    {
     "name": "stdout",
     "output_type": "stream",
     "text": [
      "\n",
      "Predicting DataLoader 0: 100%|██████████| 1/1 [00:00<00:00, 249.17it/s]\n",
      "9 "
     ]
    },
    {
     "name": "stderr",
     "output_type": "stream",
     "text": [
      "GPU available: False, used: False\n",
      "TPU available: False, using: 0 TPU cores\n",
      "HPU available: False, using: 0 HPUs\n"
     ]
    },
    {
     "name": "stdout",
     "output_type": "stream",
     "text": [
      "Predicting DataLoader 0: 100%|██████████| 1/1 [00:00<00:00, 220.74it/s]"
     ]
    },
    {
     "name": "stderr",
     "output_type": "stream",
     "text": [
      "GPU available: False, used: False\n",
      "TPU available: False, using: 0 TPU cores\n",
      "HPU available: False, using: 0 HPUs\n"
     ]
    },
    {
     "name": "stdout",
     "output_type": "stream",
     "text": [
      "\n",
      "Predicting DataLoader 0: 100%|██████████| 1/1 [00:00<00:00, 205.18it/s]"
     ]
    },
    {
     "name": "stderr",
     "output_type": "stream",
     "text": [
      "GPU available: False, used: False\n",
      "TPU available: False, using: 0 TPU cores\n",
      "HPU available: False, using: 0 HPUs\n"
     ]
    },
    {
     "name": "stdout",
     "output_type": "stream",
     "text": [
      "\n",
      "Predicting DataLoader 0: 100%|██████████| 1/1 [00:00<00:00, 200.08it/s]\n",
      "10 "
     ]
    },
    {
     "name": "stderr",
     "output_type": "stream",
     "text": [
      "GPU available: False, used: False\n",
      "TPU available: False, using: 0 TPU cores\n",
      "HPU available: False, using: 0 HPUs\n"
     ]
    },
    {
     "name": "stdout",
     "output_type": "stream",
     "text": [
      "Predicting DataLoader 0: 100%|██████████| 1/1 [00:00<00:00, 208.72it/s]"
     ]
    },
    {
     "name": "stderr",
     "output_type": "stream",
     "text": [
      "GPU available: False, used: False\n",
      "TPU available: False, using: 0 TPU cores\n",
      "HPU available: False, using: 0 HPUs\n"
     ]
    },
    {
     "name": "stdout",
     "output_type": "stream",
     "text": [
      "\n",
      "Predicting DataLoader 0: 100%|██████████| 1/1 [00:00<00:00, 203.63it/s]"
     ]
    },
    {
     "name": "stderr",
     "output_type": "stream",
     "text": [
      "GPU available: False, used: False\n",
      "TPU available: False, using: 0 TPU cores\n",
      "HPU available: False, using: 0 HPUs\n"
     ]
    },
    {
     "name": "stdout",
     "output_type": "stream",
     "text": [
      "\n",
      "Predicting DataLoader 0: 100%|██████████| 1/1 [00:00<00:00, 150.06it/s]\n",
      "11 "
     ]
    },
    {
     "name": "stderr",
     "output_type": "stream",
     "text": [
      "GPU available: False, used: False\n",
      "TPU available: False, using: 0 TPU cores\n",
      "HPU available: False, using: 0 HPUs\n"
     ]
    },
    {
     "name": "stdout",
     "output_type": "stream",
     "text": [
      "Predicting DataLoader 0: 100%|██████████| 1/1 [00:00<00:00, 219.13it/s]"
     ]
    },
    {
     "name": "stderr",
     "output_type": "stream",
     "text": [
      "GPU available: False, used: False\n"
     ]
    },
    {
     "name": "stdout",
     "output_type": "stream",
     "text": [
      "\n"
     ]
    },
    {
     "name": "stderr",
     "output_type": "stream",
     "text": [
      "TPU available: False, using: 0 TPU cores\n",
      "HPU available: False, using: 0 HPUs\n"
     ]
    },
    {
     "name": "stdout",
     "output_type": "stream",
     "text": [
      "Predicting DataLoader 0: 100%|██████████| 1/1 [00:00<00:00, 180.94it/s]"
     ]
    },
    {
     "name": "stderr",
     "output_type": "stream",
     "text": [
      "GPU available: False, used: False\n",
      "TPU available: False, using: 0 TPU cores\n",
      "HPU available: False, using: 0 HPUs\n"
     ]
    },
    {
     "name": "stdout",
     "output_type": "stream",
     "text": [
      "\n",
      "Predicting DataLoader 0: 100%|██████████| 1/1 [00:00<00:00, 199.47it/s]\n",
      "12 "
     ]
    },
    {
     "name": "stderr",
     "output_type": "stream",
     "text": [
      "GPU available: False, used: False\n",
      "TPU available: False, using: 0 TPU cores\n",
      "HPU available: False, using: 0 HPUs\n"
     ]
    },
    {
     "name": "stdout",
     "output_type": "stream",
     "text": [
      "Predicting DataLoader 0: 100%|██████████| 1/1 [00:00<00:00, 162.56it/s]"
     ]
    },
    {
     "name": "stderr",
     "output_type": "stream",
     "text": [
      "GPU available: False, used: False\n",
      "TPU available: False, using: 0 TPU cores\n",
      "HPU available: False, using: 0 HPUs\n"
     ]
    },
    {
     "name": "stdout",
     "output_type": "stream",
     "text": [
      "\n",
      "Predicting DataLoader 0: 100%|██████████| 1/1 [00:00<00:00, 133.53it/s]"
     ]
    },
    {
     "name": "stderr",
     "output_type": "stream",
     "text": [
      "GPU available: False, used: False\n",
      "TPU available: False, using: 0 TPU cores\n",
      "HPU available: False, using: 0 HPUs\n"
     ]
    },
    {
     "name": "stdout",
     "output_type": "stream",
     "text": [
      "\n",
      "Predicting DataLoader 0: 100%|██████████| 1/1 [00:00<00:00, 216.27it/s]\n",
      "13 "
     ]
    },
    {
     "name": "stderr",
     "output_type": "stream",
     "text": [
      "GPU available: False, used: False\n",
      "TPU available: False, using: 0 TPU cores\n",
      "HPU available: False, using: 0 HPUs\n"
     ]
    },
    {
     "name": "stdout",
     "output_type": "stream",
     "text": [
      "Predicting DataLoader 0: 100%|██████████| 1/1 [00:00<00:00, 200.00it/s]"
     ]
    },
    {
     "name": "stderr",
     "output_type": "stream",
     "text": [
      "GPU available: False, used: False\n",
      "TPU available: False, using: 0 TPU cores\n",
      "HPU available: False, using: 0 HPUs\n"
     ]
    },
    {
     "name": "stdout",
     "output_type": "stream",
     "text": [
      "\n",
      "Predicting DataLoader 0: 100%|██████████| 1/1 [00:00<00:00, 200.16it/s]"
     ]
    },
    {
     "name": "stderr",
     "output_type": "stream",
     "text": [
      "GPU available: False, used: False\n",
      "TPU available: False, using: 0 TPU cores\n",
      "HPU available: False, using: 0 HPUs\n"
     ]
    },
    {
     "name": "stdout",
     "output_type": "stream",
     "text": [
      "\n",
      "Predicting DataLoader 0: 100%|██████████| 1/1 [00:00<00:00, 199.07it/s]\n",
      "14 "
     ]
    },
    {
     "name": "stderr",
     "output_type": "stream",
     "text": [
      "GPU available: False, used: False\n",
      "TPU available: False, using: 0 TPU cores\n",
      "HPU available: False, using: 0 HPUs\n"
     ]
    },
    {
     "name": "stdout",
     "output_type": "stream",
     "text": [
      "Predicting DataLoader 0: 100%|██████████| 1/1 [00:00<00:00, 175.15it/s]"
     ]
    },
    {
     "name": "stderr",
     "output_type": "stream",
     "text": [
      "GPU available: False, used: False\n",
      "TPU available: False, using: 0 TPU cores\n",
      "HPU available: False, using: 0 HPUs\n"
     ]
    },
    {
     "name": "stdout",
     "output_type": "stream",
     "text": [
      "\n",
      "Predicting DataLoader 0: 100%|██████████| 1/1 [00:00<00:00, 215.68it/s]"
     ]
    },
    {
     "name": "stderr",
     "output_type": "stream",
     "text": [
      "GPU available: False, used: False\n",
      "TPU available: False, using: 0 TPU cores\n",
      "HPU available: False, using: 0 HPUs\n"
     ]
    },
    {
     "name": "stdout",
     "output_type": "stream",
     "text": [
      "\n",
      "Predicting DataLoader 0: 100%|██████████| 1/1 [00:00<00:00, 168.31it/s]\n",
      "15 "
     ]
    },
    {
     "name": "stderr",
     "output_type": "stream",
     "text": [
      "GPU available: False, used: False\n",
      "TPU available: False, using: 0 TPU cores\n",
      "HPU available: False, using: 0 HPUs\n"
     ]
    },
    {
     "name": "stdout",
     "output_type": "stream",
     "text": [
      "Predicting DataLoader 0: 100%|██████████| 1/1 [00:00<00:00, 227.54it/s]"
     ]
    },
    {
     "name": "stderr",
     "output_type": "stream",
     "text": [
      "GPU available: False, used: False\n",
      "TPU available: False, using: 0 TPU cores\n",
      "HPU available: False, using: 0 HPUs\n"
     ]
    },
    {
     "name": "stdout",
     "output_type": "stream",
     "text": [
      "\n",
      "Predicting DataLoader 0: 100%|██████████| 1/1 [00:00<00:00, 285.97it/s]"
     ]
    },
    {
     "name": "stderr",
     "output_type": "stream",
     "text": [
      "GPU available: False, used: False\n",
      "TPU available: False, using: 0 TPU cores\n",
      "HPU available: False, using: 0 HPUs\n"
     ]
    },
    {
     "name": "stdout",
     "output_type": "stream",
     "text": [
      "\n",
      "Predicting DataLoader 0: 100%|██████████| 1/1 [00:00<00:00, 236.95it/s]\n",
      "16 "
     ]
    },
    {
     "name": "stderr",
     "output_type": "stream",
     "text": [
      "GPU available: False, used: False\n",
      "TPU available: False, using: 0 TPU cores\n",
      "HPU available: False, using: 0 HPUs\n"
     ]
    },
    {
     "name": "stdout",
     "output_type": "stream",
     "text": [
      "Predicting DataLoader 0: 100%|██████████| 1/1 [00:00<00:00, 249.96it/s]"
     ]
    },
    {
     "name": "stderr",
     "output_type": "stream",
     "text": [
      "GPU available: False, used: False\n",
      "TPU available: False, using: 0 TPU cores\n",
      "HPU available: False, using: 0 HPUs\n"
     ]
    },
    {
     "name": "stdout",
     "output_type": "stream",
     "text": [
      "\n",
      "Predicting DataLoader 0: 100%|██████████| 1/1 [00:00<00:00, 250.62it/s]"
     ]
    },
    {
     "name": "stderr",
     "output_type": "stream",
     "text": [
      "GPU available: False, used: False\n",
      "TPU available: False, using: 0 TPU cores\n",
      "HPU available: False, using: 0 HPUs\n"
     ]
    },
    {
     "name": "stdout",
     "output_type": "stream",
     "text": [
      "\n",
      "Predicting DataLoader 0: 100%|██████████| 1/1 [00:00<00:00, 331.51it/s]\n",
      "17 "
     ]
    },
    {
     "name": "stderr",
     "output_type": "stream",
     "text": [
      "GPU available: False, used: False\n",
      "TPU available: False, using: 0 TPU cores\n",
      "HPU available: False, using: 0 HPUs\n"
     ]
    },
    {
     "name": "stdout",
     "output_type": "stream",
     "text": [
      "Predicting DataLoader 0: 100%|██████████| 1/1 [00:00<00:00, 305.26it/s]"
     ]
    },
    {
     "name": "stderr",
     "output_type": "stream",
     "text": [
      "GPU available: False, used: False\n",
      "TPU available: False, using: 0 TPU cores\n",
      "HPU available: False, using: 0 HPUs\n"
     ]
    },
    {
     "name": "stdout",
     "output_type": "stream",
     "text": [
      "\n",
      "Predicting DataLoader 0: 100%|██████████| 1/1 [00:00<00:00, 285.27it/s]"
     ]
    },
    {
     "name": "stderr",
     "output_type": "stream",
     "text": [
      "GPU available: False, used: False\n",
      "TPU available: False, using: 0 TPU cores\n",
      "HPU available: False, using: 0 HPUs\n"
     ]
    },
    {
     "name": "stdout",
     "output_type": "stream",
     "text": [
      "\n",
      "Predicting DataLoader 0: 100%|██████████| 1/1 [00:00<00:00, 250.57it/s]\n",
      "18 "
     ]
    },
    {
     "name": "stderr",
     "output_type": "stream",
     "text": [
      "GPU available: False, used: False\n",
      "TPU available: False, using: 0 TPU cores\n",
      "HPU available: False, using: 0 HPUs\n"
     ]
    },
    {
     "name": "stdout",
     "output_type": "stream",
     "text": [
      "Predicting DataLoader 0: 100%|██████████| 1/1 [00:00<00:00, 180.40it/s]"
     ]
    },
    {
     "name": "stderr",
     "output_type": "stream",
     "text": [
      "GPU available: False, used: False\n",
      "TPU available: False, using: 0 TPU cores\n",
      "HPU available: False, using: 0 HPUs\n"
     ]
    },
    {
     "name": "stdout",
     "output_type": "stream",
     "text": [
      "\n",
      "Predicting DataLoader 0: 100%|██████████| 1/1 [00:00<00:00, 250.00it/s]"
     ]
    },
    {
     "name": "stderr",
     "output_type": "stream",
     "text": [
      "GPU available: False, used: False\n",
      "TPU available: False, using: 0 TPU cores\n",
      "HPU available: False, using: 0 HPUs\n"
     ]
    },
    {
     "name": "stdout",
     "output_type": "stream",
     "text": [
      "\n",
      "Predicting DataLoader 0: 100%|██████████| 1/1 [00:00<00:00, 199.92it/s]\n",
      "19 "
     ]
    },
    {
     "name": "stderr",
     "output_type": "stream",
     "text": [
      "GPU available: False, used: False\n",
      "TPU available: False, using: 0 TPU cores\n",
      "HPU available: False, using: 0 HPUs\n"
     ]
    },
    {
     "name": "stdout",
     "output_type": "stream",
     "text": [
      "Predicting DataLoader 0: 100%|██████████| 1/1 [00:00<00:00, 249.32it/s]\n"
     ]
    },
    {
     "name": "stderr",
     "output_type": "stream",
     "text": [
      "GPU available: False, used: False\n",
      "TPU available: False, using: 0 TPU cores\n",
      "HPU available: False, using: 0 HPUs\n"
     ]
    },
    {
     "name": "stdout",
     "output_type": "stream",
     "text": [
      "Predicting DataLoader 0: 100%|██████████| 1/1 [00:00<00:00, 212.60it/s]"
     ]
    },
    {
     "name": "stderr",
     "output_type": "stream",
     "text": [
      "GPU available: False, used: False\n",
      "TPU available: False, using: 0 TPU cores\n",
      "HPU available: False, using: 0 HPUs\n"
     ]
    },
    {
     "name": "stdout",
     "output_type": "stream",
     "text": [
      "\n",
      "Predicting DataLoader 0: 100%|██████████| 1/1 [00:00<00:00, 230.34it/s]\n",
      "20 "
     ]
    },
    {
     "name": "stderr",
     "output_type": "stream",
     "text": [
      "GPU available: False, used: False\n",
      "TPU available: False, using: 0 TPU cores\n",
      "HPU available: False, using: 0 HPUs\n"
     ]
    },
    {
     "name": "stdout",
     "output_type": "stream",
     "text": [
      "Predicting DataLoader 0: 100%|██████████| 1/1 [00:00<00:00, 250.02it/s]"
     ]
    },
    {
     "name": "stderr",
     "output_type": "stream",
     "text": [
      "GPU available: False, used: False\n",
      "TPU available: False, using: 0 TPU cores\n",
      "HPU available: False, using: 0 HPUs\n"
     ]
    },
    {
     "name": "stdout",
     "output_type": "stream",
     "text": [
      "\n",
      "Predicting DataLoader 0: 100%|██████████| 1/1 [00:00<00:00, 166.87it/s]"
     ]
    },
    {
     "name": "stderr",
     "output_type": "stream",
     "text": [
      "GPU available: False, used: False\n",
      "TPU available: False, using: 0 TPU cores\n",
      "HPU available: False, using: 0 HPUs\n"
     ]
    },
    {
     "name": "stdout",
     "output_type": "stream",
     "text": [
      "\n",
      "Predicting DataLoader 0: 100%|██████████| 1/1 [00:00<00:00, 249.87it/s]\n",
      "21 "
     ]
    },
    {
     "name": "stderr",
     "output_type": "stream",
     "text": [
      "GPU available: False, used: False\n",
      "TPU available: False, using: 0 TPU cores\n",
      "HPU available: False, using: 0 HPUs\n"
     ]
    },
    {
     "name": "stdout",
     "output_type": "stream",
     "text": [
      "Predicting DataLoader 0: 100%|██████████| 1/1 [00:00<00:00, 181.63it/s]"
     ]
    },
    {
     "name": "stderr",
     "output_type": "stream",
     "text": [
      "GPU available: False, used: False\n",
      "TPU available: False, using: 0 TPU cores\n",
      "HPU available: False, using: 0 HPUs\n"
     ]
    },
    {
     "name": "stdout",
     "output_type": "stream",
     "text": [
      "\n",
      "Predicting DataLoader 0: 100%|██████████| 1/1 [00:00<00:00, 178.72it/s]"
     ]
    },
    {
     "name": "stderr",
     "output_type": "stream",
     "text": [
      "GPU available: False, used: False\n",
      "TPU available: False, using: 0 TPU cores\n",
      "HPU available: False, using: 0 HPUs\n"
     ]
    },
    {
     "name": "stdout",
     "output_type": "stream",
     "text": [
      "\n",
      "Predicting DataLoader 0: 100%|██████████| 1/1 [00:00<00:00, 203.04it/s]\n",
      "22 "
     ]
    },
    {
     "name": "stderr",
     "output_type": "stream",
     "text": [
      "GPU available: False, used: False\n",
      "TPU available: False, using: 0 TPU cores\n",
      "HPU available: False, using: 0 HPUs\n"
     ]
    },
    {
     "name": "stdout",
     "output_type": "stream",
     "text": [
      "Predicting DataLoader 0: 100%|██████████| 1/1 [00:00<00:00, 198.34it/s]"
     ]
    },
    {
     "name": "stderr",
     "output_type": "stream",
     "text": [
      "GPU available: False, used: False\n",
      "TPU available: False, using: 0 TPU cores\n",
      "HPU available: False, using: 0 HPUs\n"
     ]
    },
    {
     "name": "stdout",
     "output_type": "stream",
     "text": [
      "\n",
      "Predicting DataLoader 0: 100%|██████████| 1/1 [00:00<00:00, 286.18it/s]"
     ]
    },
    {
     "name": "stderr",
     "output_type": "stream",
     "text": [
      "GPU available: False, used: False\n",
      "TPU available: False, using: 0 TPU cores\n",
      "HPU available: False, using: 0 HPUs\n"
     ]
    },
    {
     "name": "stdout",
     "output_type": "stream",
     "text": [
      "\n",
      "Predicting DataLoader 0: 100%|██████████| 1/1 [00:00<00:00, 207.34it/s]\n",
      "23 "
     ]
    },
    {
     "name": "stderr",
     "output_type": "stream",
     "text": [
      "GPU available: False, used: False\n",
      "TPU available: False, using: 0 TPU cores\n",
      "HPU available: False, using: 0 HPUs\n"
     ]
    },
    {
     "name": "stdout",
     "output_type": "stream",
     "text": [
      "Predicting DataLoader 0: 100%|██████████| 1/1 [00:00<00:00, 215.37it/s]"
     ]
    },
    {
     "name": "stderr",
     "output_type": "stream",
     "text": [
      "GPU available: False, used: False\n",
      "TPU available: False, using: 0 TPU cores\n",
      "HPU available: False, using: 0 HPUs\n"
     ]
    },
    {
     "name": "stdout",
     "output_type": "stream",
     "text": [
      "\n",
      "Predicting DataLoader 0: 100%|██████████| 1/1 [00:00<00:00, 167.66it/s]"
     ]
    },
    {
     "name": "stderr",
     "output_type": "stream",
     "text": [
      "GPU available: False, used: False\n",
      "TPU available: False, using: 0 TPU cores\n",
      "HPU available: False, using: 0 HPUs\n"
     ]
    },
    {
     "name": "stdout",
     "output_type": "stream",
     "text": [
      "\n",
      "Predicting DataLoader 0: 100%|██████████| 1/1 [00:00<00:00, 250.69it/s]\n",
      "24 "
     ]
    },
    {
     "name": "stderr",
     "output_type": "stream",
     "text": [
      "GPU available: False, used: False\n",
      "TPU available: False, using: 0 TPU cores\n",
      "HPU available: False, using: 0 HPUs\n"
     ]
    },
    {
     "name": "stdout",
     "output_type": "stream",
     "text": [
      "Predicting DataLoader 0: 100%|██████████| 1/1 [00:00<00:00, 233.20it/s]"
     ]
    },
    {
     "name": "stderr",
     "output_type": "stream",
     "text": [
      "GPU available: False, used: False\n"
     ]
    },
    {
     "name": "stdout",
     "output_type": "stream",
     "text": [
      "\n"
     ]
    },
    {
     "name": "stderr",
     "output_type": "stream",
     "text": [
      "TPU available: False, using: 0 TPU cores\n",
      "HPU available: False, using: 0 HPUs\n"
     ]
    },
    {
     "name": "stdout",
     "output_type": "stream",
     "text": [
      "Predicting DataLoader 0: 100%|██████████| 1/1 [00:00<00:00, 271.11it/s]"
     ]
    },
    {
     "name": "stderr",
     "output_type": "stream",
     "text": [
      "GPU available: False, used: False\n",
      "TPU available: False, using: 0 TPU cores\n",
      "HPU available: False, using: 0 HPUs\n"
     ]
    },
    {
     "name": "stdout",
     "output_type": "stream",
     "text": [
      "\n",
      "Predicting DataLoader 0: 100%|██████████| 1/1 [00:00<00:00, 224.38it/s]\n"
     ]
    },
    {
     "data": {
      "text/html": [
       "<div>\n",
       "<style scoped>\n",
       "    .dataframe tbody tr th:only-of-type {\n",
       "        vertical-align: middle;\n",
       "    }\n",
       "\n",
       "    .dataframe tbody tr th {\n",
       "        vertical-align: top;\n",
       "    }\n",
       "\n",
       "    .dataframe thead th {\n",
       "        text-align: right;\n",
       "    }\n",
       "</style>\n",
       "<table border=\"1\" class=\"dataframe\">\n",
       "  <thead>\n",
       "    <tr style=\"text-align: right;\">\n",
       "      <th></th>\n",
       "      <th>시점</th>\n",
       "      <th>감자</th>\n",
       "      <th>건고추</th>\n",
       "      <th>깐마늘(국산)</th>\n",
       "      <th>대파</th>\n",
       "      <th>무</th>\n",
       "      <th>배추</th>\n",
       "      <th>사과</th>\n",
       "      <th>상추</th>\n",
       "      <th>양파</th>\n",
       "      <th>배</th>\n",
       "    </tr>\n",
       "  </thead>\n",
       "  <tbody>\n",
       "    <tr>\n",
       "      <th>0</th>\n",
       "      <td>TEST_00+1순</td>\n",
       "      <td>37145.908411</td>\n",
       "      <td>670561.497590</td>\n",
       "      <td>169845.068501</td>\n",
       "      <td>1932.835336</td>\n",
       "      <td>32710.010306</td>\n",
       "      <td>16938.155856</td>\n",
       "      <td>23641.248368</td>\n",
       "      <td>1152.534001</td>\n",
       "      <td>1445.743778</td>\n",
       "      <td>32338.267493</td>\n",
       "    </tr>\n",
       "    <tr>\n",
       "      <th>1</th>\n",
       "      <td>TEST_00+2순</td>\n",
       "      <td>36854.527163</td>\n",
       "      <td>672749.231525</td>\n",
       "      <td>167776.259283</td>\n",
       "      <td>1927.690408</td>\n",
       "      <td>32883.550943</td>\n",
       "      <td>16931.622619</td>\n",
       "      <td>23665.028555</td>\n",
       "      <td>1170.169770</td>\n",
       "      <td>1422.496233</td>\n",
       "      <td>31628.095859</td>\n",
       "    </tr>\n",
       "    <tr>\n",
       "      <th>2</th>\n",
       "      <td>TEST_00+3순</td>\n",
       "      <td>37262.944774</td>\n",
       "      <td>669163.656655</td>\n",
       "      <td>168938.255349</td>\n",
       "      <td>1935.774045</td>\n",
       "      <td>32773.765810</td>\n",
       "      <td>16886.326781</td>\n",
       "      <td>23635.837322</td>\n",
       "      <td>1153.652235</td>\n",
       "      <td>1408.722735</td>\n",
       "      <td>32133.647869</td>\n",
       "    </tr>\n",
       "    <tr>\n",
       "      <th>3</th>\n",
       "      <td>TEST_01+1순</td>\n",
       "      <td>40159.026179</td>\n",
       "      <td>653145.040038</td>\n",
       "      <td>167201.043565</td>\n",
       "      <td>1786.219359</td>\n",
       "      <td>13777.685282</td>\n",
       "      <td>6262.462647</td>\n",
       "      <td>23199.523596</td>\n",
       "      <td>995.842368</td>\n",
       "      <td>1488.191474</td>\n",
       "      <td>26552.456645</td>\n",
       "    </tr>\n",
       "    <tr>\n",
       "      <th>4</th>\n",
       "      <td>TEST_01+2순</td>\n",
       "      <td>40622.315838</td>\n",
       "      <td>649803.552620</td>\n",
       "      <td>167473.432761</td>\n",
       "      <td>1843.879288</td>\n",
       "      <td>13738.985893</td>\n",
       "      <td>6006.743764</td>\n",
       "      <td>23059.596610</td>\n",
       "      <td>969.709005</td>\n",
       "      <td>1487.050301</td>\n",
       "      <td>25845.076786</td>\n",
       "    </tr>\n",
       "    <tr>\n",
       "      <th>...</th>\n",
       "      <td>...</td>\n",
       "      <td>...</td>\n",
       "      <td>...</td>\n",
       "      <td>...</td>\n",
       "      <td>...</td>\n",
       "      <td>...</td>\n",
       "      <td>...</td>\n",
       "      <td>...</td>\n",
       "      <td>...</td>\n",
       "      <td>...</td>\n",
       "      <td>...</td>\n",
       "    </tr>\n",
       "    <tr>\n",
       "      <th>70</th>\n",
       "      <td>TEST_23+2순</td>\n",
       "      <td>41202.357234</td>\n",
       "      <td>636688.958128</td>\n",
       "      <td>167388.145126</td>\n",
       "      <td>1742.768555</td>\n",
       "      <td>9116.101810</td>\n",
       "      <td>4821.908331</td>\n",
       "      <td>22229.644257</td>\n",
       "      <td>872.336913</td>\n",
       "      <td>1431.602916</td>\n",
       "      <td>25731.592222</td>\n",
       "    </tr>\n",
       "    <tr>\n",
       "      <th>71</th>\n",
       "      <td>TEST_23+3순</td>\n",
       "      <td>41035.156568</td>\n",
       "      <td>636285.106827</td>\n",
       "      <td>167481.656413</td>\n",
       "      <td>1736.106743</td>\n",
       "      <td>9131.351671</td>\n",
       "      <td>4774.095401</td>\n",
       "      <td>22227.424180</td>\n",
       "      <td>861.392081</td>\n",
       "      <td>1434.863443</td>\n",
       "      <td>25625.654843</td>\n",
       "    </tr>\n",
       "    <tr>\n",
       "      <th>72</th>\n",
       "      <td>TEST_24+1순</td>\n",
       "      <td>47348.813456</td>\n",
       "      <td>543183.017852</td>\n",
       "      <td>174191.024442</td>\n",
       "      <td>1298.440647</td>\n",
       "      <td>13618.792140</td>\n",
       "      <td>8759.423994</td>\n",
       "      <td>28588.619694</td>\n",
       "      <td>993.824149</td>\n",
       "      <td>505.312612</td>\n",
       "      <td>38314.465763</td>\n",
       "    </tr>\n",
       "    <tr>\n",
       "      <th>73</th>\n",
       "      <td>TEST_24+2순</td>\n",
       "      <td>54029.131266</td>\n",
       "      <td>542759.054352</td>\n",
       "      <td>174400.351477</td>\n",
       "      <td>1324.978187</td>\n",
       "      <td>13519.057457</td>\n",
       "      <td>8815.923145</td>\n",
       "      <td>28354.633823</td>\n",
       "      <td>985.957030</td>\n",
       "      <td>545.045725</td>\n",
       "      <td>38396.646467</td>\n",
       "    </tr>\n",
       "    <tr>\n",
       "      <th>74</th>\n",
       "      <td>TEST_24+3순</td>\n",
       "      <td>45725.486869</td>\n",
       "      <td>544140.239662</td>\n",
       "      <td>173873.990137</td>\n",
       "      <td>1308.132051</td>\n",
       "      <td>13527.300483</td>\n",
       "      <td>8726.639769</td>\n",
       "      <td>28496.562521</td>\n",
       "      <td>996.948681</td>\n",
       "      <td>491.312452</td>\n",
       "      <td>38364.882481</td>\n",
       "    </tr>\n",
       "  </tbody>\n",
       "</table>\n",
       "<p>75 rows × 11 columns</p>\n",
       "</div>"
      ],
      "text/plain": [
       "            시점            감자            건고추        깐마늘(국산)           대파  \\\n",
       "0   TEST_00+1순  37145.908411  670561.497590  169845.068501  1932.835336   \n",
       "1   TEST_00+2순  36854.527163  672749.231525  167776.259283  1927.690408   \n",
       "2   TEST_00+3순  37262.944774  669163.656655  168938.255349  1935.774045   \n",
       "3   TEST_01+1순  40159.026179  653145.040038  167201.043565  1786.219359   \n",
       "4   TEST_01+2순  40622.315838  649803.552620  167473.432761  1843.879288   \n",
       "..         ...           ...            ...            ...          ...   \n",
       "70  TEST_23+2순  41202.357234  636688.958128  167388.145126  1742.768555   \n",
       "71  TEST_23+3순  41035.156568  636285.106827  167481.656413  1736.106743   \n",
       "72  TEST_24+1순  47348.813456  543183.017852  174191.024442  1298.440647   \n",
       "73  TEST_24+2순  54029.131266  542759.054352  174400.351477  1324.978187   \n",
       "74  TEST_24+3순  45725.486869  544140.239662  173873.990137  1308.132051   \n",
       "\n",
       "               무            배추            사과           상추           양파  \\\n",
       "0   32710.010306  16938.155856  23641.248368  1152.534001  1445.743778   \n",
       "1   32883.550943  16931.622619  23665.028555  1170.169770  1422.496233   \n",
       "2   32773.765810  16886.326781  23635.837322  1153.652235  1408.722735   \n",
       "3   13777.685282   6262.462647  23199.523596   995.842368  1488.191474   \n",
       "4   13738.985893   6006.743764  23059.596610   969.709005  1487.050301   \n",
       "..           ...           ...           ...          ...          ...   \n",
       "70   9116.101810   4821.908331  22229.644257   872.336913  1431.602916   \n",
       "71   9131.351671   4774.095401  22227.424180   861.392081  1434.863443   \n",
       "72  13618.792140   8759.423994  28588.619694   993.824149   505.312612   \n",
       "73  13519.057457   8815.923145  28354.633823   985.957030   545.045725   \n",
       "74  13527.300483   8726.639769  28496.562521   996.948681   491.312452   \n",
       "\n",
       "               배  \n",
       "0   32338.267493  \n",
       "1   31628.095859  \n",
       "2   32133.647869  \n",
       "3   26552.456645  \n",
       "4   25845.076786  \n",
       "..           ...  \n",
       "70  25731.592222  \n",
       "71  25625.654843  \n",
       "72  38314.465763  \n",
       "73  38396.646467  \n",
       "74  38364.882481  \n",
       "\n",
       "[75 rows x 11 columns]"
      ]
     },
     "execution_count": 13,
     "metadata": {},
     "output_type": "execute_result"
    }
   ],
   "source": [
    "sub = pd.read_csv('data/sample_submission.csv')\n",
    "\n",
    "for i in range(25): ## TEST_00 ~ TEST_24\n",
    "    print(i, end =' ')\n",
    "\n",
    "    file = test_paths[i]\n",
    "    sanji_file = test_sanji_paths[i]\n",
    "    dome_file = test_dome_paths[i]\n",
    "\n",
    "    test_num = file.split(\"\\\\\")[-1].split(\".\")[0]\n",
    "    num = test_num.split('_')[-1]\n",
    "\n",
    "    # test.csv, train 데이터와 형식 맞춰주기\n",
    "    test = pd.read_csv(file)\n",
    "    test = basic_preprocess_train(test, apple = True)\n",
    "    test = gen_transpose_test(test, train_cols)\n",
    "\n",
    "    # test 산지\n",
    "    test_sanji = pd.read_csv(sanji_file)\n",
    "    # print(test_sanji)\n",
    "    test_sanji = gen_transpose_test_sanji(test_sanji, train_sanji_cols)\n",
    "    # print(test_sanji)\n",
    "\n",
    "\n",
    "    # test 도매\n",
    "    # test_dome = pd.read_csv(dome_file)\n",
    "    # test_dome = gen_transpose_test_dome(test_dome, train_dome_cols)\n",
    "\n",
    "    # 전체 test 데이터로 concat\n",
    "    test = pd.concat([test, test_sanji], axis = 1)\n",
    "    test = test[train.columns]\n",
    "    # 결측치 존재하는지 확인\n",
    "    test_null_check = test.isnull().sum()\n",
    "    for i in test_null_check.index:\n",
    "        if test_null_check[i]!=0:\n",
    "            print(i, test_null_check[i])\n",
    "    \n",
    "    for j in range(3):\n",
    "        test_j = test[7+j:]\n",
    "        test_scaled = scaler.transform(TimeSeries.from_dataframe(test_j))\n",
    "\n",
    "        # TSMixer 모델로 예측 수행\n",
    "        predictions_test = tsmixer_model.predict(n=output_chunk_length, series=test_scaled)\n",
    "\n",
    "        # 예측 결과를 Pandas DataFrame으로 변환\n",
    "        predictions_rescaled_test = scaler.inverse_transform(predictions_test).pd_dataframe()\n",
    "        test = pd.concat([test, predictions_rescaled_test], axis = 0).reset_index(drop = True)\n",
    "        for col in test.columns:\n",
    "            id, price = col.split(\"__\")\n",
    "            if (id in target_id) and (price == '평균가격(원)'):\n",
    "                sub.loc[sub['시점'] == test_num + f'+{j+1}순', id.split('_')[0]] = predictions_rescaled_test.loc[list(predictions_rescaled_test.index)[0], col]\n",
    "\n",
    "sub"
   ]
  },
  {
   "cell_type": "code",
   "execution_count": 14,
   "metadata": {},
   "outputs": [
    {
     "data": {
      "text/html": [
       "<div>\n",
       "<style scoped>\n",
       "    .dataframe tbody tr th:only-of-type {\n",
       "        vertical-align: middle;\n",
       "    }\n",
       "\n",
       "    .dataframe tbody tr th {\n",
       "        vertical-align: top;\n",
       "    }\n",
       "\n",
       "    .dataframe thead th {\n",
       "        text-align: right;\n",
       "    }\n",
       "</style>\n",
       "<table border=\"1\" class=\"dataframe\">\n",
       "  <thead>\n",
       "    <tr style=\"text-align: right;\">\n",
       "      <th></th>\n",
       "      <th>감자</th>\n",
       "      <th>건고추</th>\n",
       "      <th>깐마늘(국산)</th>\n",
       "      <th>대파</th>\n",
       "      <th>무</th>\n",
       "      <th>배추</th>\n",
       "      <th>사과</th>\n",
       "      <th>상추</th>\n",
       "      <th>양파</th>\n",
       "      <th>배</th>\n",
       "    </tr>\n",
       "  </thead>\n",
       "  <tbody>\n",
       "    <tr>\n",
       "      <th>count</th>\n",
       "      <td>75.000000</td>\n",
       "      <td>75.000000</td>\n",
       "      <td>75.000000</td>\n",
       "      <td>75.000000</td>\n",
       "      <td>75.000000</td>\n",
       "      <td>75.000000</td>\n",
       "      <td>75.000000</td>\n",
       "      <td>75.000000</td>\n",
       "      <td>75.000000</td>\n",
       "      <td>75.000000</td>\n",
       "    </tr>\n",
       "    <tr>\n",
       "      <th>mean</th>\n",
       "      <td>43791.836377</td>\n",
       "      <td>579795.050284</td>\n",
       "      <td>172434.593419</td>\n",
       "      <td>1648.466595</td>\n",
       "      <td>17438.410957</td>\n",
       "      <td>11701.812871</td>\n",
       "      <td>27361.340902</td>\n",
       "      <td>1381.716859</td>\n",
       "      <td>1163.161669</td>\n",
       "      <td>36342.335604</td>\n",
       "    </tr>\n",
       "    <tr>\n",
       "      <th>std</th>\n",
       "      <td>11899.117085</td>\n",
       "      <td>48257.601817</td>\n",
       "      <td>3579.935710</td>\n",
       "      <td>286.189767</td>\n",
       "      <td>6392.115316</td>\n",
       "      <td>4704.302350</td>\n",
       "      <td>2869.641096</td>\n",
       "      <td>542.725733</td>\n",
       "      <td>396.607237</td>\n",
       "      <td>5294.987062</td>\n",
       "    </tr>\n",
       "    <tr>\n",
       "      <th>min</th>\n",
       "      <td>30629.824472</td>\n",
       "      <td>539925.883131</td>\n",
       "      <td>167088.739601</td>\n",
       "      <td>1117.376142</td>\n",
       "      <td>9116.101810</td>\n",
       "      <td>4774.095401</td>\n",
       "      <td>22227.424180</td>\n",
       "      <td>861.392081</td>\n",
       "      <td>371.812922</td>\n",
       "      <td>25449.009354</td>\n",
       "    </tr>\n",
       "    <tr>\n",
       "      <th>25%</th>\n",
       "      <td>36217.472657</td>\n",
       "      <td>543844.002788</td>\n",
       "      <td>168429.583605</td>\n",
       "      <td>1479.792008</td>\n",
       "      <td>13449.072423</td>\n",
       "      <td>8757.799508</td>\n",
       "      <td>23667.988615</td>\n",
       "      <td>984.295681</td>\n",
       "      <td>720.229711</td>\n",
       "      <td>35736.571600</td>\n",
       "    </tr>\n",
       "    <tr>\n",
       "      <th>50%</th>\n",
       "      <td>38982.947948</td>\n",
       "      <td>551866.379852</td>\n",
       "      <td>173796.764191</td>\n",
       "      <td>1721.770117</td>\n",
       "      <td>14784.016565</td>\n",
       "      <td>10028.508659</td>\n",
       "      <td>28293.840449</td>\n",
       "      <td>1099.358510</td>\n",
       "      <td>1363.379999</td>\n",
       "      <td>38396.646467</td>\n",
       "    </tr>\n",
       "    <tr>\n",
       "      <th>75%</th>\n",
       "      <td>44275.811910</td>\n",
       "      <td>636234.138189</td>\n",
       "      <td>175000.322470</td>\n",
       "      <td>1858.759513</td>\n",
       "      <td>21850.787114</td>\n",
       "      <td>16806.761051</td>\n",
       "      <td>29625.616111</td>\n",
       "      <td>1953.305118</td>\n",
       "      <td>1438.347461</td>\n",
       "      <td>39806.828166</td>\n",
       "    </tr>\n",
       "    <tr>\n",
       "      <th>max</th>\n",
       "      <td>72195.353867</td>\n",
       "      <td>672749.231525</td>\n",
       "      <td>177252.911629</td>\n",
       "      <td>2133.873996</td>\n",
       "      <td>32883.550943</td>\n",
       "      <td>24202.092868</td>\n",
       "      <td>32047.000481</td>\n",
       "      <td>2559.815868</td>\n",
       "      <td>1535.084417</td>\n",
       "      <td>41513.015802</td>\n",
       "    </tr>\n",
       "  </tbody>\n",
       "</table>\n",
       "</div>"
      ],
      "text/plain": [
       "                 감자            건고추        깐마늘(국산)           대파             무  \\\n",
       "count     75.000000      75.000000      75.000000    75.000000     75.000000   \n",
       "mean   43791.836377  579795.050284  172434.593419  1648.466595  17438.410957   \n",
       "std    11899.117085   48257.601817    3579.935710   286.189767   6392.115316   \n",
       "min    30629.824472  539925.883131  167088.739601  1117.376142   9116.101810   \n",
       "25%    36217.472657  543844.002788  168429.583605  1479.792008  13449.072423   \n",
       "50%    38982.947948  551866.379852  173796.764191  1721.770117  14784.016565   \n",
       "75%    44275.811910  636234.138189  175000.322470  1858.759513  21850.787114   \n",
       "max    72195.353867  672749.231525  177252.911629  2133.873996  32883.550943   \n",
       "\n",
       "                 배추            사과           상추           양파             배  \n",
       "count     75.000000     75.000000    75.000000    75.000000     75.000000  \n",
       "mean   11701.812871  27361.340902  1381.716859  1163.161669  36342.335604  \n",
       "std     4704.302350   2869.641096   542.725733   396.607237   5294.987062  \n",
       "min     4774.095401  22227.424180   861.392081   371.812922  25449.009354  \n",
       "25%     8757.799508  23667.988615   984.295681   720.229711  35736.571600  \n",
       "50%    10028.508659  28293.840449  1099.358510  1363.379999  38396.646467  \n",
       "75%    16806.761051  29625.616111  1953.305118  1438.347461  39806.828166  \n",
       "max    24202.092868  32047.000481  2559.815868  1535.084417  41513.015802  "
      ]
     },
     "execution_count": 14,
     "metadata": {},
     "output_type": "execute_result"
    }
   ],
   "source": [
    "sub.describe()"
   ]
  },
  {
   "cell_type": "code",
   "execution_count": 15,
   "metadata": {},
   "outputs": [],
   "source": [
    "sub.to_csv('submission/20.csv', index = False)"
   ]
  }
 ],
 "metadata": {
  "kernelspec": {
   "display_name": "price_predict",
   "language": "python",
   "name": "python3"
  },
  "language_info": {
   "codemirror_mode": {
    "name": "ipython",
    "version": 3
   },
   "file_extension": ".py",
   "mimetype": "text/x-python",
   "name": "python",
   "nbconvert_exporter": "python",
   "pygments_lexer": "ipython3",
   "version": "3.8.19"
  }
 },
 "nbformat": 4,
 "nbformat_minor": 2
}
